{
 "cells": [
  {
   "cell_type": "markdown",
   "id": "734b9800-a737-4420-8a5c-0845d1009e39",
   "metadata": {},
   "source": [
    "# Data Science Tools and Ecosystem"
   ]
  },
  {
   "cell_type": "markdown",
   "id": "e3269294-c9e2-43ca-a32d-57a41ff60b6f",
   "metadata": {},
   "source": [
    "## Author\n",
    "Javier Luna"
   ]
  },
  {
   "cell_type": "markdown",
   "id": "ad326da5-2851-43aa-a3f6-9794680b719f",
   "metadata": {},
   "source": [
    "In this notebook, Data Science Tools and Ecosystem are summarized."
   ]
  },
  {
   "cell_type": "markdown",
   "id": "e60f344c-406f-4431-a840-ff9dab9bbdb0",
   "metadata": {},
   "source": [
    "**Objectives**\n",
    "- List popular languages for Data Science.\n",
    "- List commonly used libraries used by Data Scientists.\n",
    "- Table some Data Science Tools, such as open-source development environments.\n",
    "- Introduce examples of arithmetic expressions in Python."
   ]
  },
  {
   "cell_type": "markdown",
   "id": "4f75e766-b82c-4389-b182-449985b3ff6b",
   "metadata": {},
   "source": [
    "Some of the popular languages that Data Scientists use are:\n",
    "\n",
    "1. Python\n",
    "2. R\n",
    "3. SQL\n",
    "4. Julia\n",
    "5. Java\n",
    "6. C++\n",
    "7. Scala"
   ]
  },
  {
   "cell_type": "markdown",
   "id": "038114d6-ecf7-4219-a1c9-4595e2013f78",
   "metadata": {},
   "source": [
    "Some of the commonly used libraries used by Data Scientists include:\n",
    "\n",
    "1. Pandas\n",
    "2. NumPy\n",
    "3. Matplotlib\n",
    "4. Scikit-learn\n",
    "5. PyTorch\n",
    "6. TensorFlow\n",
    "7. Seaborn"
   ]
  },
  {
   "cell_type": "markdown",
   "id": "8c598c71-3eb9-4a98-9548-0c0fa929f1f7",
   "metadata": {},
   "source": [
    "| Data Science Tools |\n",
    "| -------------|\n",
    "| JupyterLab |\n",
    "| JupyterLite |\n",
    "| VSCode |\n",
    "| GoogleColaboratory |"
   ]
  },
  {
   "cell_type": "markdown",
   "id": "f33b9c53-cf7c-4a78-9900-7c72769fec9b",
   "metadata": {},
   "source": [
    "### Below are a few examples of evaluating arithmetic expressions in Python"
   ]
  },
  {
   "cell_type": "code",
   "execution_count": 4,
   "id": "839d6085-95fb-464b-80b2-14fc3239e119",
   "metadata": {},
   "outputs": [
    {
     "data": {
      "text/plain": [
       "17"
      ]
     },
     "execution_count": 4,
     "metadata": {},
     "output_type": "execute_result"
    }
   ],
   "source": [
    "# This a simple arithmetic expression to mutiply then add integers\n",
    "\n",
    "(3*4)+5"
   ]
  },
  {
   "cell_type": "code",
   "execution_count": 5,
   "id": "7c05c4d0-fda2-472a-89b4-6a3b0f3ac039",
   "metadata": {},
   "outputs": [
    {
     "name": "stdout",
     "output_type": "stream",
     "text": [
      "3.3333333333333335 hours\n"
     ]
    }
   ],
   "source": [
    "# This will convert 200 minutes to hours by diving by 60\n",
    "\n",
    "minutes = 200\n",
    "hours = minutes/60\n",
    "print(hours, \"hours\")"
   ]
  }
 ],
 "metadata": {
  "kernelspec": {
   "display_name": "Python 3 (ipykernel)",
   "language": "python",
   "name": "python3"
  },
  "language_info": {
   "codemirror_mode": {
    "name": "ipython",
    "version": 3
   },
   "file_extension": ".py",
   "mimetype": "text/x-python",
   "name": "python",
   "nbconvert_exporter": "python",
   "pygments_lexer": "ipython3",
   "version": "3.11.5"
  }
 },
 "nbformat": 4,
 "nbformat_minor": 5
}
